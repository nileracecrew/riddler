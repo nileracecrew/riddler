{
 "cells": [
  {
   "cell_type": "code",
   "execution_count": 1,
   "metadata": {
    "collapsed": true
   },
   "outputs": [],
   "source": [
    "from __future__ import division\n",
    "import itertools\n",
    "import matplotlib.pyplot as plt\n",
    "import numpy as np\n",
    "%matplotlib inline"
   ]
  },
  {
   "cell_type": "markdown",
   "metadata": {},
   "source": [
    "P(miss 1) = 5/6\n",
    "\n",
    "P(miss 2) = 4/6 + 1/6*P(miss 1)\n",
    "\n",
    "P(miss 3) = 3/6 + 1/6 * P(miss 2) + 1/6 P(miss 1)\n",
    "\n",
    "..."
   ]
  },
  {
   "cell_type": "code",
   "execution_count": 2,
   "metadata": {
    "collapsed": false
   },
   "outputs": [],
   "source": [
    "pmiss = [ 5/6 ]\n",
    "for i in range(1000):\n",
    "   pmiss.append(max(0, (6 - i - 2)/6) + sum(pmiss[-6:])/6)\n"
   ]
  },
  {
   "cell_type": "code",
   "execution_count": 3,
   "metadata": {
    "collapsed": false
   },
   "outputs": [
    {
     "data": {
      "text/plain": [
       "[0.8333333333333334,\n",
       " 0.8055555555555556,\n",
       " 0.7731481481481481,\n",
       " 0.7353395061728395,\n",
       " 0.6912294238683128,\n",
       " 0.6397676611796982,\n",
       " 0.7463956047096479,\n",
       " 0.731905983272367,\n",
       " 0.7196310545585023,\n",
       " 0.7107115389602279]"
      ]
     },
     "execution_count": 3,
     "metadata": {},
     "output_type": "execute_result"
    }
   ],
   "source": [
    "pmiss[0:10]"
   ]
  },
  {
   "cell_type": "code",
   "execution_count": 4,
   "metadata": {
    "collapsed": false
   },
   "outputs": [
    {
     "data": {
      "text/plain": [
       "<matplotlib.text.Text at 0x10e6e7990>"
      ]
     },
     "execution_count": 4,
     "metadata": {},
     "output_type": "execute_result"
    },
    {
     "data": {
      "image/png": "[encoded data removed]",
      "text/plain": [
       "<matplotlib.figure.Figure at 0x10c19d6d0>"
      ]
     },
     "metadata": {},
     "output_type": "display_data"
    }
   ],
   "source": [
    "pmiss_cut = pmiss[0:50]\n",
    "spaces = np.arange(len(pmiss_cut)) + 1\n",
    "plt.plot(spaces, pmiss_cut, '-o')\n",
    "plt.xlabel(\"space\")\n",
    "plt.ylabel(\"p(miss)\")"
   ]
  },
  {
   "cell_type": "markdown",
   "metadata": {},
   "source": [
    "```\n",
    "P(miss n1 and miss n2) = P(miss n2) - P(miss n2|hit n1) * P(hit n1)\n",
    "                       = P(miss n2) - P(miss [n2-n1]) * (1 - P(miss n1))\n",
    "\n",
    "P(miss n1 and miss n2 and miss n3) = P(miss n2 and n3) - P(miss [n2-n1] and miss [n3-n1]) * P(hit n1)\n",
    "```"
   ]
  },
  {
   "cell_type": "code",
   "execution_count": 5,
   "metadata": {
    "collapsed": true
   },
   "outputs": [],
   "source": [
    "def pmiss2(n1,n2):\n",
    "    return pmiss[n2] - pmiss[n2-n1-1] * (1 - pmiss[n1])\n",
    "\n",
    "def pmiss3(n1,n2,n3):\n",
    "    return pmiss2(n2,n3) - pmiss2(n2-n1-1, n3-n1-1) * (1 - pmiss[n1])"
   ]
  },
  {
   "cell_type": "code",
   "execution_count": 6,
   "metadata": {
    "collapsed": false
   },
   "outputs": [],
   "source": [
    "out = []\n",
    "for x,y,z in itertools.product(range(100),range(100),range(100)):\n",
    "    if x < y < z:\n",
    "        out.append([(x+1, y+1, z+1), pmiss3(x,y,z)])"
   ]
  },
  {
   "cell_type": "code",
   "execution_count": 7,
   "metadata": {
    "collapsed": false
   },
   "outputs": [
    {
     "name": "stdout",
     "output_type": "stream",
     "text": [
      "i want to live:\n",
      "[(4, 5, 6), 0.20601851851851846]\n",
      "i want to die:\n",
      "[(1, 2, 7), 0.5245627572016461]\n"
     ]
    }
   ],
   "source": [
    "pdeath = [ l[1] for l in out ]\n",
    "print \"i want to live:\"\n",
    "print out[np.argmin(pdeath)]\n",
    "print \"i want to die:\"\n",
    "print out[np.argmax(pdeath)]"
   ]
  },
  {
   "cell_type": "code",
   "execution_count": 8,
   "metadata": {
    "collapsed": false
   },
   "outputs": [],
   "source": [
    "out_no_adjacent = []\n",
    "for x,y,z in itertools.product(range(100),range(100),range(100)):\n",
    "    if x + 1 < y and y + 1 < z:\n",
    "        out_no_adjacent.append([(x+1, y+1, z+1), pmiss3(x,y,z)])"
   ]
  },
  {
   "cell_type": "code",
   "execution_count": 9,
   "metadata": {
    "collapsed": false
   },
   "outputs": [
    {
     "name": "stdout",
     "output_type": "stream",
     "text": [
      "i want to live:\n",
      "[(6, 8, 10), 0.28627912570492287]\n",
      "i want to die:\n",
      "[(1, 3, 7), 0.49678497942386834]\n"
     ]
    }
   ],
   "source": [
    "pdeath_no_adjacent = [ l[1] for l in out_no_adjacent ]\n",
    "print \"i want to live:\"\n",
    "print out_no_adjacent[np.argmin(pdeath_no_adjacent)]\n",
    "print \"i want to die:\"\n",
    "print out_no_adjacent[np.argmax(pdeath_no_adjacent)]"
   ]
  }
 ],
 "metadata": {
  "kernelspec": {
   "display_name": "Python [Root]",
   "language": "python",
   "name": "Python [Root]"
  },
  "language_info": {
   "codemirror_mode": {
    "name": "ipython",
    "version": 2
   },
   "file_extension": ".py",
   "mimetype": "text/x-python",
   "name": "python",
   "nbconvert_exporter": "python",
   "pygments_lexer": "ipython2",
   "version": "2.7.12"
  }
 },
 "nbformat": 4,
 "nbformat_minor": 0
}
